{
 "cells": [
  {
   "cell_type": "code",
   "execution_count": 39,
   "metadata": {},
   "outputs": [],
   "source": [
    "import pandas as pd\n",
    "from selenium import webdriver\n",
    "from bs4 import BeautifulSoup\n",
    "import urllib.request as req\n",
    "import requests\n",
    "import time\n",
    "import re\n",
    "from urllib.parse import urljoin\n",
    "import os"
   ]
  },
  {
   "cell_type": "code",
   "execution_count": 40,
   "metadata": {},
   "outputs": [],
   "source": [
    "each_url =('k1m', 'k2m', 'k3m', 'k1ma', 'kmb')\n",
    "url = (\"https://19ch.tv/km/km.html\")"
   ]
  },
  {
   "cell_type": "code",
   "execution_count": 41,
   "metadata": {},
   "outputs": [],
   "source": [
    "def Subject_Link_Get(self):\n",
    "\n",
    "    url_x = (f\"https://19ch.tv/km/{self}.html\")\n",
    "\n",
    "    response = req.urlopen(url_x)\n",
    "    parse_html = BeautifulSoup(response, 'html.parser')\n",
    "    a = parse_html.find_all('a')\n",
    "    T = parse_html.find('h1').text\n",
    "    \n",
    "    return (a, T)"
   ]
  },
  {
   "cell_type": "code",
   "execution_count": 43,
   "metadata": {},
   "outputs": [],
   "source": [
    "def Lesson_Link_Get(self):\n",
    "    \n",
    "    title_list = []\n",
    "    pdf_list = []\n",
    "    lesson_list = []\n",
    "\n",
    "    for i in self:\n",
    "        if 'href' in i.attrs:\n",
    "            h = i.attrs['href']\n",
    "\n",
    "            if re.match(x + '/.*pdf', h):\n",
    "                temp_url_pdf = urljoin(url, h)\n",
    "                if not temp_url_pdf in pdf_list:\n",
    "                    pdf_list.append(temp_url_pdf)\n",
    "                    \n",
    "            if re.match(x + '/\\w*.html', h):\n",
    "                temp_url_lesson = urljoin(url, h)\n",
    "                if not temp_url_lesson in lesson_list:\n",
    "                        lesson_list.append(temp_url_lesson)\n",
    "                if i.text != '':\n",
    "                    title_list.append(i.text)\n",
    "                    \n",
    "    \n",
    "    return (title_list, pdf_list, lesson_list)"
   ]
  },
  {
   "cell_type": "code",
   "execution_count": 44,
   "metadata": {},
   "outputs": [],
   "source": [
    "def Download_PDF(title, pdf):\n",
    "    \n",
    "    for (t, p) in zip(title, pdf):\n",
    "        req.urlretrieve(p, f'/Users/makidaisuke/Desktop/my_pands/数学/問題集/pdf_dir/{t}.pdf')"
   ]
  },
  {
   "cell_type": "code",
   "execution_count": 51,
   "metadata": {},
   "outputs": [],
   "source": [
    "def Download_Answer(title, answer):\n",
    "    \n",
    "    answer_list = []\n",
    "    \n",
    "    for (t, a) in zip(title, answer):\n",
    "        time.sleep(1)\n",
    "        r = req.urlopen(a)\n",
    "        ph = BeautifulSoup(r, 'html.parser')\n",
    "        answer_link = ph.find_all('a', class_='pure-button pure-button-primary')\n",
    "        for al in answer_link:\n",
    "            if al.text == '葉一先生の解答':\n",
    "                temp_url_answer = urljoin(a, al.attrs['href'])\n",
    "                answer_list.append(temp_url_answer)\n",
    "    return answer_list"
   ]
  },
  {
   "cell_type": "code",
   "execution_count": null,
   "metadata": {},
   "outputs": [],
   "source": [
    "for x in each_url:\n",
    "    a, T = Subject_Link_Get(x)\n",
    "    title, pdf, lesson =  Lesson_Link_Get(a)\n",
    "    answer = Download_Answer(title, lesson)\n",
    "    Download_PDF(title, pdf)\n",
    "    Download_Answer(title, lesson)\n",
    "\n",
    "    df = pd.DataFrame({'Title': title,\n",
    "                                       'Lesson': lesson,\n",
    "                                       'Answer': answer,\n",
    "                                       'Finish': False})\n",
    "    df.to_csv(f'/Users/makidaisuke/Desktop/my_pands/数学/問題集/{T}.csv')\n",
    "else:\n",
    "    print('完了')"
   ]
  }
 ],
 "metadata": {
  "kernelspec": {
   "display_name": "Python 3",
   "language": "python",
   "name": "python3"
  },
  "language_info": {
   "codemirror_mode": {
    "name": "ipython",
    "version": 3
   },
   "file_extension": ".py",
   "mimetype": "text/x-python",
   "name": "python",
   "nbconvert_exporter": "python",
   "pygments_lexer": "ipython3",
   "version": "3.8.3"
  }
 },
 "nbformat": 4,
 "nbformat_minor": 4
}
