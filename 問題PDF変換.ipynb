{
 "cells": [
  {
   "cell_type": "code",
   "execution_count": 12,
   "metadata": {},
   "outputs": [],
   "source": [
    "import pathlib as Path\n",
    "from pdf2image import convert_from_path\n",
    "import os\n",
    "import glob"
   ]
  },
  {
   "cell_type": "code",
   "execution_count": 97,
   "metadata": {},
   "outputs": [],
   "source": [
    "pdf_dir = '/Users/makidaisuke/Desktop/my_pands/数学/問題集/pdf_dir'\n",
    "img_path = '/Users/makidaisuke/Desktop/my_pands/数学/問題集/pdf_image/'\n",
    "pdf_file = Path.Path(pdf_dir).glob('*.pdf')"
   ]
  },
  {
   "cell_type": "code",
   "execution_count": 98,
   "metadata": {},
   "outputs": [],
   "source": [
    "def PDF_image(pdf_path,img_dir, fmt='jpeg', dpi=200):\n",
    "\n",
    "    #pdf_file、img_pathをPathにする\n",
    "\n",
    "    # PDFをImage に変換(pdf2imageの関数)\n",
    "    pages = convert_from_path(pdf_path, dpi)\n",
    "\n",
    "    # 画像ファイルを１ページずつ保存\n",
    "    for i, page in enumerate(pages):\n",
    "        file_name = \"{}.{}\".format(pdf_path.stem,fmt)\n",
    "        image_path = img_dir + file_name\n",
    "        page.save(image_path, fmt)"
   ]
  },
  {
   "cell_type": "code",
   "execution_count": 99,
   "metadata": {},
   "outputs": [],
   "source": [
    "for p in pdf_file:\n",
    "    PDF_image(pdf_path=p, img_dir=img_path, fmt='jpeg', dpi=200)"
   ]
  },
  {
   "cell_type": "code",
   "execution_count": null,
   "metadata": {},
   "outputs": [],
   "source": []
  }
 ],
 "metadata": {
  "kernelspec": {
   "display_name": "Python 3",
   "language": "python",
   "name": "python3"
  },
  "language_info": {
   "codemirror_mode": {
    "name": "ipython",
    "version": 3
   },
   "file_extension": ".py",
   "mimetype": "text/x-python",
   "name": "python",
   "nbconvert_exporter": "python",
   "pygments_lexer": "ipython3",
   "version": "3.8.3"
  }
 },
 "nbformat": 4,
 "nbformat_minor": 4
}
